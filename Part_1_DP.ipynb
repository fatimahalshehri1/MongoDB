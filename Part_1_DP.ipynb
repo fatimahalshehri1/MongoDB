{
  "cells": [
    {
      "cell_type": "markdown",
      "metadata": {
        "id": "view-in-github",
        "colab_type": "text"
      },
      "source": [
        "<a href=\"https://colab.research.google.com/github/fatimahalshehri1/MongoDB/blob/master/Part_1_DP.ipynb\" target=\"_parent\"><img src=\"https://colab.research.google.com/assets/colab-badge.svg\" alt=\"Open In Colab\"/></a>"
      ]
    },
    {
      "cell_type": "markdown",
      "metadata": {
        "id": "N8s8-wKjxtQA"
      },
      "source": [
        "## Part 1: Demonstration of Differential Privacy using PyDP\n",
        "\n",
        "### About PyDP\n",
        "The PyDP package provides access to Differential Privacy algorithms in Python. This example uses the 1.0 version of the package that has the following limitations:\n",
        "\n",
        "1. This version only supports [Google's Differential Privacy library](https://github.com/google/differential-privacy).\n",
        "2. Laplace noise generation technique.\n",
        "3. Supports only integer and floating point values"
      ]
    },
    {
      "cell_type": "markdown",
      "metadata": {
        "id": "4jVg5GV6OhVX"
      },
      "source": [
        "### What's in this Tutorial\n",
        "To demonstrate DP, we protect the user from something called Membership Inference Attack(MIA). \n",
        "\n",
        "The idea behing DP is we should **not** be able to identify the identity of an individual user.\n",
        "\n",
        "To prove that, we are going to take a database and create two copies of it such that they differ in only one record. Or exactly one record is absent from the original Database."
      ]
    },
    {
      "cell_type": "markdown",
      "metadata": {
        "id": "thx_3b-lTNun"
      },
      "source": [
        "#### The Proof\n",
        "\n",
        "In this work, we have used real data from the London Data Store .project monitored from November 2011 to February 2014 the energy consumption of 5567 London households. The households were selected as a balanced sample of London’s society. Data sets were then released with the energy consumption measured every half hour, a unique household identifier, a time-stamp and energy.\n",
        "\n",
        " we should be able to identify which houdhold has spend how much and hence identify the user, which using the help of DP, we can avoid that. "
      ]
    },
    {
      "cell_type": "code",
      "execution_count": null,
      "metadata": {
        "colab": {
          "base_uri": "https://localhost:8080/"
        },
        "id": "spD-ktSDoYjE",
        "outputId": "1de9e859-2c65-4d95-fd01-4fedb44ebf42"
      },
      "outputs": [
        {
          "output_type": "stream",
          "name": "stdout",
          "text": [
            "Drive already mounted at /content/drive; to attempt to forcibly remount, call drive.mount(\"/content/drive\", force_remount=True).\n"
          ]
        }
      ],
      "source": [
        "from google.colab import drive\n",
        "drive.mount('/content/drive')"
      ]
    },
    {
      "cell_type": "code",
      "execution_count": null,
      "metadata": {
        "colab": {
          "base_uri": "https://localhost:8080/"
        },
        "id": "wCWzGstiw7Y9",
        "outputId": "03f4c4d0-3546-4662-ff12-b09fbe0c4476"
      },
      "outputs": [
        {
          "output_type": "stream",
          "name": "stdout",
          "text": [
            "Looking in indexes: https://pypi.org/simple, https://us-python.pkg.dev/colab-wheels/public/simple/\n",
            "Requirement already satisfied: python-dp in /usr/local/lib/python3.7/dist-packages (1.1.1)\n"
          ]
        }
      ],
      "source": [
        "!pip install python-dp # installing PyDP"
      ]
    },
    {
      "cell_type": "code",
      "execution_count": null,
      "metadata": {
        "id": "3c-nVwj9w-VW"
      },
      "outputs": [],
      "source": [
        "import pydp as dp # by convention our package is to be imported as dp (for Differential Privacy!)\n",
        "from pydp.algorithms.laplacian import BoundedSum, BoundedMean, Count, Max\n",
        "import pandas as pd\n",
        "import statistics # for calculating mean without applying differential privacy\n",
        "import numpy as np\n",
        "import matplotlib.pyplot as plt"
      ]
    },
    {
      "cell_type": "markdown",
      "metadata": {
        "id": "f_tO7QHYUWnq"
      },
      "source": [
        "### Fetching the Data and loading it! "
      ]
    },
    {
      "cell_type": "code",
      "execution_count": null,
      "metadata": {
        "colab": {
          "base_uri": "https://localhost:8080/"
        },
        "id": "tpOD8LPXlm4j",
        "outputId": "406df51a-c42f-454d-c841-f47cc468c4c1"
      },
      "outputs": [
        {
          "output_type": "stream",
          "name": "stdout",
          "text": [
            "Drive already mounted at /content/drive; to attempt to forcibly remount, call drive.mount(\"/content/drive\", force_remount=True).\n"
          ]
        }
      ],
      "source": [
        "from google.colab import drive\n",
        "drive.mount('/content/drive')"
      ]
    },
    {
      "cell_type": "code",
      "execution_count": null,
      "metadata": {
        "colab": {
          "base_uri": "https://localhost:8080/",
          "height": 206
        },
        "id": "fCPFolUByhhf",
        "outputId": "61a82300-f871-45bc-b594-2adaca45512c"
      },
      "outputs": [
        {
          "output_type": "execute_result",
          "data": {
            "text/plain": [
              "       LCLid                         tstp energy(kWh/hh)\n",
              "0  MAC000517  2012-03-27 11:30:00.0000000         0.305 \n",
              "1  MAC000517  2012-03-27 12:00:00.0000000         0.118 \n",
              "2  MAC000517  2012-03-27 12:30:00.0000000         0.214 \n",
              "3  MAC000517  2012-03-27 13:00:00.0000000         0.097 \n",
              "4  MAC000517  2012-03-27 13:30:00.0000000         0.117 "
            ],
            "text/html": [
              "\n",
              "  <div id=\"df-46d3b72d-8046-4ad5-86ac-6cbd0251a9e6\">\n",
              "    <div class=\"colab-df-container\">\n",
              "      <div>\n",
              "<style scoped>\n",
              "    .dataframe tbody tr th:only-of-type {\n",
              "        vertical-align: middle;\n",
              "    }\n",
              "\n",
              "    .dataframe tbody tr th {\n",
              "        vertical-align: top;\n",
              "    }\n",
              "\n",
              "    .dataframe thead th {\n",
              "        text-align: right;\n",
              "    }\n",
              "</style>\n",
              "<table border=\"1\" class=\"dataframe\">\n",
              "  <thead>\n",
              "    <tr style=\"text-align: right;\">\n",
              "      <th></th>\n",
              "      <th>LCLid</th>\n",
              "      <th>tstp</th>\n",
              "      <th>energy(kWh/hh)</th>\n",
              "    </tr>\n",
              "  </thead>\n",
              "  <tbody>\n",
              "    <tr>\n",
              "      <th>0</th>\n",
              "      <td>MAC000517</td>\n",
              "      <td>2012-03-27 11:30:00.0000000</td>\n",
              "      <td>0.305</td>\n",
              "    </tr>\n",
              "    <tr>\n",
              "      <th>1</th>\n",
              "      <td>MAC000517</td>\n",
              "      <td>2012-03-27 12:00:00.0000000</td>\n",
              "      <td>0.118</td>\n",
              "    </tr>\n",
              "    <tr>\n",
              "      <th>2</th>\n",
              "      <td>MAC000517</td>\n",
              "      <td>2012-03-27 12:30:00.0000000</td>\n",
              "      <td>0.214</td>\n",
              "    </tr>\n",
              "    <tr>\n",
              "      <th>3</th>\n",
              "      <td>MAC000517</td>\n",
              "      <td>2012-03-27 13:00:00.0000000</td>\n",
              "      <td>0.097</td>\n",
              "    </tr>\n",
              "    <tr>\n",
              "      <th>4</th>\n",
              "      <td>MAC000517</td>\n",
              "      <td>2012-03-27 13:30:00.0000000</td>\n",
              "      <td>0.117</td>\n",
              "    </tr>\n",
              "  </tbody>\n",
              "</table>\n",
              "</div>\n",
              "      <button class=\"colab-df-convert\" onclick=\"convertToInteractive('df-46d3b72d-8046-4ad5-86ac-6cbd0251a9e6')\"\n",
              "              title=\"Convert this dataframe to an interactive table.\"\n",
              "              style=\"display:none;\">\n",
              "        \n",
              "  <svg xmlns=\"http://www.w3.org/2000/svg\" height=\"24px\"viewBox=\"0 0 24 24\"\n",
              "       width=\"24px\">\n",
              "    <path d=\"M0 0h24v24H0V0z\" fill=\"none\"/>\n",
              "    <path d=\"M18.56 5.44l.94 2.06.94-2.06 2.06-.94-2.06-.94-.94-2.06-.94 2.06-2.06.94zm-11 1L8.5 8.5l.94-2.06 2.06-.94-2.06-.94L8.5 2.5l-.94 2.06-2.06.94zm10 10l.94 2.06.94-2.06 2.06-.94-2.06-.94-.94-2.06-.94 2.06-2.06.94z\"/><path d=\"M17.41 7.96l-1.37-1.37c-.4-.4-.92-.59-1.43-.59-.52 0-1.04.2-1.43.59L10.3 9.45l-7.72 7.72c-.78.78-.78 2.05 0 2.83L4 21.41c.39.39.9.59 1.41.59.51 0 1.02-.2 1.41-.59l7.78-7.78 2.81-2.81c.8-.78.8-2.07 0-2.86zM5.41 20L4 18.59l7.72-7.72 1.47 1.35L5.41 20z\"/>\n",
              "  </svg>\n",
              "      </button>\n",
              "      \n",
              "  <style>\n",
              "    .colab-df-container {\n",
              "      display:flex;\n",
              "      flex-wrap:wrap;\n",
              "      gap: 12px;\n",
              "    }\n",
              "\n",
              "    .colab-df-convert {\n",
              "      background-color: #E8F0FE;\n",
              "      border: none;\n",
              "      border-radius: 50%;\n",
              "      cursor: pointer;\n",
              "      display: none;\n",
              "      fill: #1967D2;\n",
              "      height: 32px;\n",
              "      padding: 0 0 0 0;\n",
              "      width: 32px;\n",
              "    }\n",
              "\n",
              "    .colab-df-convert:hover {\n",
              "      background-color: #E2EBFA;\n",
              "      box-shadow: 0px 1px 2px rgba(60, 64, 67, 0.3), 0px 1px 3px 1px rgba(60, 64, 67, 0.15);\n",
              "      fill: #174EA6;\n",
              "    }\n",
              "\n",
              "    [theme=dark] .colab-df-convert {\n",
              "      background-color: #3B4455;\n",
              "      fill: #D2E3FC;\n",
              "    }\n",
              "\n",
              "    [theme=dark] .colab-df-convert:hover {\n",
              "      background-color: #434B5C;\n",
              "      box-shadow: 0px 1px 3px 1px rgba(0, 0, 0, 0.15);\n",
              "      filter: drop-shadow(0px 1px 2px rgba(0, 0, 0, 0.3));\n",
              "      fill: #FFFFFF;\n",
              "    }\n",
              "  </style>\n",
              "\n",
              "      <script>\n",
              "        const buttonEl =\n",
              "          document.querySelector('#df-46d3b72d-8046-4ad5-86ac-6cbd0251a9e6 button.colab-df-convert');\n",
              "        buttonEl.style.display =\n",
              "          google.colab.kernel.accessAllowed ? 'block' : 'none';\n",
              "\n",
              "        async function convertToInteractive(key) {\n",
              "          const element = document.querySelector('#df-46d3b72d-8046-4ad5-86ac-6cbd0251a9e6');\n",
              "          const dataTable =\n",
              "            await google.colab.kernel.invokeFunction('convertToInteractive',\n",
              "                                                     [key], {});\n",
              "          if (!dataTable) return;\n",
              "\n",
              "          const docLinkHtml = 'Like what you see? Visit the ' +\n",
              "            '<a target=\"_blank\" href=https://colab.research.google.com/notebooks/data_table.ipynb>data table notebook</a>'\n",
              "            + ' to learn more about interactive tables.';\n",
              "          element.innerHTML = '';\n",
              "          dataTable['output_type'] = 'display_data';\n",
              "          await google.colab.output.renderOutput(dataTable, element);\n",
              "          const docLink = document.createElement('div');\n",
              "          docLink.innerHTML = docLinkHtml;\n",
              "          element.appendChild(docLink);\n",
              "        }\n",
              "      </script>\n",
              "    </div>\n",
              "  </div>\n",
              "  "
            ]
          },
          "metadata": {},
          "execution_count": 566
        }
      ],
      "source": [
        "\n",
        "url1 = '/content/drive/MyDrive/Colab Notebooks/All/dataset/block_4.csv'\n",
        "df1 = pd.read_csv(url1,sep=\",\", engine = \"python\")\n",
        "df1.head()"
      ]
    },
    {
      "cell_type": "markdown",
      "metadata": {
        "id": "fmKsASpgNc-L"
      },
      "source": []
    },
    {
      "cell_type": "markdown",
      "metadata": {
        "id": "gVJZiHU7Ufob"
      },
      "source": [
        "#### Combining the whole data into one single dataframe. "
      ]
    },
    {
      "cell_type": "code",
      "execution_count": null,
      "metadata": {
        "id": "31B6M3TZ66jz"
      },
      "outputs": [],
      "source": [
        "combined_df_temp = [df1]\n",
        "original_dataset = pd.concat(combined_df_temp)"
      ]
    },
    {
      "cell_type": "code",
      "execution_count": null,
      "metadata": {
        "id": "6WPUwaCL-GPU"
      },
      "outputs": [],
      "source": [
        "original_dataset['energy(kWh/hh)'] = np.where(original_dataset[\"energy(kWh/hh)\"] == 'Null', '0',original_dataset[\"energy(kWh/hh)\"] )"
      ]
    },
    {
      "cell_type": "code",
      "execution_count": null,
      "metadata": {
        "id": "Wdupm8fm9f44"
      },
      "outputs": [],
      "source": [
        "ag=pd.to_numeric(list(original_dataset[\"energy(kWh/hh)\"]))"
      ]
    },
    {
      "cell_type": "markdown",
      "metadata": {
        "id": "7RIyfnaUUuvT"
      },
      "source": [
        "The size of the combined dataset: "
      ]
    },
    {
      "cell_type": "code",
      "execution_count": null,
      "metadata": {
        "colab": {
          "base_uri": "https://localhost:8080/"
        },
        "id": "SQNbf4ym7Kmd",
        "outputId": "f6f63b83-2fb1-44a9-e9aa-09c7227d2920"
      },
      "outputs": [
        {
          "output_type": "execute_result",
          "data": {
            "text/plain": [
              "(1473176, 3)"
            ]
          },
          "metadata": {},
          "execution_count": 570
        }
      ],
      "source": [
        "original_dataset.shape"
      ]
    },
    {
      "cell_type": "markdown",
      "metadata": {
        "id": "2DUdhL9NUzwx"
      },
      "source": [
        "\n",
        "### Removing 1 record from the DF\n",
        "\n",
        "Now we create our new dataset for testing DP in which we remove exactly one record from the original DB."
      ]
    },
    {
      "cell_type": "code",
      "execution_count": null,
      "metadata": {
        "id": "EvPUnSW37NOq"
      },
      "outputs": [],
      "source": [
        "redact_dataset = original_dataset.copy()\n",
        "redact_dataset = redact_dataset[44871:] # # this dataset does not have 1consumption household(44871) \n"
      ]
    },
    {
      "cell_type": "code",
      "execution_count": null,
      "metadata": {
        "colab": {
          "base_uri": "https://localhost:8080/",
          "height": 206
        },
        "id": "giEWElTj8QPX",
        "outputId": "17e99b07-512e-4654-fc5a-2dda0c172b4e"
      },
      "outputs": [
        {
          "output_type": "execute_result",
          "data": {
            "text/plain": [
              "       LCLid                         tstp energy(kWh/hh)\n",
              "0  MAC000517  2012-03-27 11:30:00.0000000         0.305 \n",
              "1  MAC000517  2012-03-27 12:00:00.0000000         0.118 \n",
              "2  MAC000517  2012-03-27 12:30:00.0000000         0.214 \n",
              "3  MAC000517  2012-03-27 13:00:00.0000000         0.097 \n",
              "4  MAC000517  2012-03-27 13:30:00.0000000         0.117 "
            ],
            "text/html": [
              "\n",
              "  <div id=\"df-060d1b39-e5fd-47bb-bc19-d517f0b41bee\">\n",
              "    <div class=\"colab-df-container\">\n",
              "      <div>\n",
              "<style scoped>\n",
              "    .dataframe tbody tr th:only-of-type {\n",
              "        vertical-align: middle;\n",
              "    }\n",
              "\n",
              "    .dataframe tbody tr th {\n",
              "        vertical-align: top;\n",
              "    }\n",
              "\n",
              "    .dataframe thead th {\n",
              "        text-align: right;\n",
              "    }\n",
              "</style>\n",
              "<table border=\"1\" class=\"dataframe\">\n",
              "  <thead>\n",
              "    <tr style=\"text-align: right;\">\n",
              "      <th></th>\n",
              "      <th>LCLid</th>\n",
              "      <th>tstp</th>\n",
              "      <th>energy(kWh/hh)</th>\n",
              "    </tr>\n",
              "  </thead>\n",
              "  <tbody>\n",
              "    <tr>\n",
              "      <th>0</th>\n",
              "      <td>MAC000517</td>\n",
              "      <td>2012-03-27 11:30:00.0000000</td>\n",
              "      <td>0.305</td>\n",
              "    </tr>\n",
              "    <tr>\n",
              "      <th>1</th>\n",
              "      <td>MAC000517</td>\n",
              "      <td>2012-03-27 12:00:00.0000000</td>\n",
              "      <td>0.118</td>\n",
              "    </tr>\n",
              "    <tr>\n",
              "      <th>2</th>\n",
              "      <td>MAC000517</td>\n",
              "      <td>2012-03-27 12:30:00.0000000</td>\n",
              "      <td>0.214</td>\n",
              "    </tr>\n",
              "    <tr>\n",
              "      <th>3</th>\n",
              "      <td>MAC000517</td>\n",
              "      <td>2012-03-27 13:00:00.0000000</td>\n",
              "      <td>0.097</td>\n",
              "    </tr>\n",
              "    <tr>\n",
              "      <th>4</th>\n",
              "      <td>MAC000517</td>\n",
              "      <td>2012-03-27 13:30:00.0000000</td>\n",
              "      <td>0.117</td>\n",
              "    </tr>\n",
              "  </tbody>\n",
              "</table>\n",
              "</div>\n",
              "      <button class=\"colab-df-convert\" onclick=\"convertToInteractive('df-060d1b39-e5fd-47bb-bc19-d517f0b41bee')\"\n",
              "              title=\"Convert this dataframe to an interactive table.\"\n",
              "              style=\"display:none;\">\n",
              "        \n",
              "  <svg xmlns=\"http://www.w3.org/2000/svg\" height=\"24px\"viewBox=\"0 0 24 24\"\n",
              "       width=\"24px\">\n",
              "    <path d=\"M0 0h24v24H0V0z\" fill=\"none\"/>\n",
              "    <path d=\"M18.56 5.44l.94 2.06.94-2.06 2.06-.94-2.06-.94-.94-2.06-.94 2.06-2.06.94zm-11 1L8.5 8.5l.94-2.06 2.06-.94-2.06-.94L8.5 2.5l-.94 2.06-2.06.94zm10 10l.94 2.06.94-2.06 2.06-.94-2.06-.94-.94-2.06-.94 2.06-2.06.94z\"/><path d=\"M17.41 7.96l-1.37-1.37c-.4-.4-.92-.59-1.43-.59-.52 0-1.04.2-1.43.59L10.3 9.45l-7.72 7.72c-.78.78-.78 2.05 0 2.83L4 21.41c.39.39.9.59 1.41.59.51 0 1.02-.2 1.41-.59l7.78-7.78 2.81-2.81c.8-.78.8-2.07 0-2.86zM5.41 20L4 18.59l7.72-7.72 1.47 1.35L5.41 20z\"/>\n",
              "  </svg>\n",
              "      </button>\n",
              "      \n",
              "  <style>\n",
              "    .colab-df-container {\n",
              "      display:flex;\n",
              "      flex-wrap:wrap;\n",
              "      gap: 12px;\n",
              "    }\n",
              "\n",
              "    .colab-df-convert {\n",
              "      background-color: #E8F0FE;\n",
              "      border: none;\n",
              "      border-radius: 50%;\n",
              "      cursor: pointer;\n",
              "      display: none;\n",
              "      fill: #1967D2;\n",
              "      height: 32px;\n",
              "      padding: 0 0 0 0;\n",
              "      width: 32px;\n",
              "    }\n",
              "\n",
              "    .colab-df-convert:hover {\n",
              "      background-color: #E2EBFA;\n",
              "      box-shadow: 0px 1px 2px rgba(60, 64, 67, 0.3), 0px 1px 3px 1px rgba(60, 64, 67, 0.15);\n",
              "      fill: #174EA6;\n",
              "    }\n",
              "\n",
              "    [theme=dark] .colab-df-convert {\n",
              "      background-color: #3B4455;\n",
              "      fill: #D2E3FC;\n",
              "    }\n",
              "\n",
              "    [theme=dark] .colab-df-convert:hover {\n",
              "      background-color: #434B5C;\n",
              "      box-shadow: 0px 1px 3px 1px rgba(0, 0, 0, 0.15);\n",
              "      filter: drop-shadow(0px 1px 2px rgba(0, 0, 0, 0.3));\n",
              "      fill: #FFFFFF;\n",
              "    }\n",
              "  </style>\n",
              "\n",
              "      <script>\n",
              "        const buttonEl =\n",
              "          document.querySelector('#df-060d1b39-e5fd-47bb-bc19-d517f0b41bee button.colab-df-convert');\n",
              "        buttonEl.style.display =\n",
              "          google.colab.kernel.accessAllowed ? 'block' : 'none';\n",
              "\n",
              "        async function convertToInteractive(key) {\n",
              "          const element = document.querySelector('#df-060d1b39-e5fd-47bb-bc19-d517f0b41bee');\n",
              "          const dataTable =\n",
              "            await google.colab.kernel.invokeFunction('convertToInteractive',\n",
              "                                                     [key], {});\n",
              "          if (!dataTable) return;\n",
              "\n",
              "          const docLinkHtml = 'Like what you see? Visit the ' +\n",
              "            '<a target=\"_blank\" href=https://colab.research.google.com/notebooks/data_table.ipynb>data table notebook</a>'\n",
              "            + ' to learn more about interactive tables.';\n",
              "          element.innerHTML = '';\n",
              "          dataTable['output_type'] = 'display_data';\n",
              "          await google.colab.output.renderOutput(dataTable, element);\n",
              "          const docLink = document.createElement('div');\n",
              "          docLink.innerHTML = docLinkHtml;\n",
              "          element.appendChild(docLink);\n",
              "        }\n",
              "      </script>\n",
              "    </div>\n",
              "  </div>\n",
              "  "
            ]
          },
          "metadata": {},
          "execution_count": 572
        }
      ],
      "source": [
        "original_dataset.head()"
      ]
    },
    {
      "cell_type": "code",
      "execution_count": null,
      "metadata": {
        "colab": {
          "base_uri": "https://localhost:8080/",
          "height": 206
        },
        "id": "oQpIHUte8RMg",
        "outputId": "43c7c2d5-071a-4d36-b41c-119f279a0f77"
      },
      "outputs": [
        {
          "output_type": "execute_result",
          "data": {
            "text/plain": [
              "           LCLid                         tstp energy(kWh/hh)\n",
              "44871  MAC000545  2013-01-20 19:00:00.0000000         0.636 \n",
              "44872  MAC000545  2013-01-20 19:30:00.0000000         0.647 \n",
              "44873  MAC000545  2013-01-20 20:00:00.0000000         0.513 \n",
              "44874  MAC000545  2013-01-20 20:30:00.0000000         0.484 \n",
              "44875  MAC000545  2013-01-20 21:00:00.0000000         0.479 "
            ],
            "text/html": [
              "\n",
              "  <div id=\"df-b1578f10-1f3c-45ca-879e-b0ad6ad8e5f5\">\n",
              "    <div class=\"colab-df-container\">\n",
              "      <div>\n",
              "<style scoped>\n",
              "    .dataframe tbody tr th:only-of-type {\n",
              "        vertical-align: middle;\n",
              "    }\n",
              "\n",
              "    .dataframe tbody tr th {\n",
              "        vertical-align: top;\n",
              "    }\n",
              "\n",
              "    .dataframe thead th {\n",
              "        text-align: right;\n",
              "    }\n",
              "</style>\n",
              "<table border=\"1\" class=\"dataframe\">\n",
              "  <thead>\n",
              "    <tr style=\"text-align: right;\">\n",
              "      <th></th>\n",
              "      <th>LCLid</th>\n",
              "      <th>tstp</th>\n",
              "      <th>energy(kWh/hh)</th>\n",
              "    </tr>\n",
              "  </thead>\n",
              "  <tbody>\n",
              "    <tr>\n",
              "      <th>44871</th>\n",
              "      <td>MAC000545</td>\n",
              "      <td>2013-01-20 19:00:00.0000000</td>\n",
              "      <td>0.636</td>\n",
              "    </tr>\n",
              "    <tr>\n",
              "      <th>44872</th>\n",
              "      <td>MAC000545</td>\n",
              "      <td>2013-01-20 19:30:00.0000000</td>\n",
              "      <td>0.647</td>\n",
              "    </tr>\n",
              "    <tr>\n",
              "      <th>44873</th>\n",
              "      <td>MAC000545</td>\n",
              "      <td>2013-01-20 20:00:00.0000000</td>\n",
              "      <td>0.513</td>\n",
              "    </tr>\n",
              "    <tr>\n",
              "      <th>44874</th>\n",
              "      <td>MAC000545</td>\n",
              "      <td>2013-01-20 20:30:00.0000000</td>\n",
              "      <td>0.484</td>\n",
              "    </tr>\n",
              "    <tr>\n",
              "      <th>44875</th>\n",
              "      <td>MAC000545</td>\n",
              "      <td>2013-01-20 21:00:00.0000000</td>\n",
              "      <td>0.479</td>\n",
              "    </tr>\n",
              "  </tbody>\n",
              "</table>\n",
              "</div>\n",
              "      <button class=\"colab-df-convert\" onclick=\"convertToInteractive('df-b1578f10-1f3c-45ca-879e-b0ad6ad8e5f5')\"\n",
              "              title=\"Convert this dataframe to an interactive table.\"\n",
              "              style=\"display:none;\">\n",
              "        \n",
              "  <svg xmlns=\"http://www.w3.org/2000/svg\" height=\"24px\"viewBox=\"0 0 24 24\"\n",
              "       width=\"24px\">\n",
              "    <path d=\"M0 0h24v24H0V0z\" fill=\"none\"/>\n",
              "    <path d=\"M18.56 5.44l.94 2.06.94-2.06 2.06-.94-2.06-.94-.94-2.06-.94 2.06-2.06.94zm-11 1L8.5 8.5l.94-2.06 2.06-.94-2.06-.94L8.5 2.5l-.94 2.06-2.06.94zm10 10l.94 2.06.94-2.06 2.06-.94-2.06-.94-.94-2.06-.94 2.06-2.06.94z\"/><path d=\"M17.41 7.96l-1.37-1.37c-.4-.4-.92-.59-1.43-.59-.52 0-1.04.2-1.43.59L10.3 9.45l-7.72 7.72c-.78.78-.78 2.05 0 2.83L4 21.41c.39.39.9.59 1.41.59.51 0 1.02-.2 1.41-.59l7.78-7.78 2.81-2.81c.8-.78.8-2.07 0-2.86zM5.41 20L4 18.59l7.72-7.72 1.47 1.35L5.41 20z\"/>\n",
              "  </svg>\n",
              "      </button>\n",
              "      \n",
              "  <style>\n",
              "    .colab-df-container {\n",
              "      display:flex;\n",
              "      flex-wrap:wrap;\n",
              "      gap: 12px;\n",
              "    }\n",
              "\n",
              "    .colab-df-convert {\n",
              "      background-color: #E8F0FE;\n",
              "      border: none;\n",
              "      border-radius: 50%;\n",
              "      cursor: pointer;\n",
              "      display: none;\n",
              "      fill: #1967D2;\n",
              "      height: 32px;\n",
              "      padding: 0 0 0 0;\n",
              "      width: 32px;\n",
              "    }\n",
              "\n",
              "    .colab-df-convert:hover {\n",
              "      background-color: #E2EBFA;\n",
              "      box-shadow: 0px 1px 2px rgba(60, 64, 67, 0.3), 0px 1px 3px 1px rgba(60, 64, 67, 0.15);\n",
              "      fill: #174EA6;\n",
              "    }\n",
              "\n",
              "    [theme=dark] .colab-df-convert {\n",
              "      background-color: #3B4455;\n",
              "      fill: #D2E3FC;\n",
              "    }\n",
              "\n",
              "    [theme=dark] .colab-df-convert:hover {\n",
              "      background-color: #434B5C;\n",
              "      box-shadow: 0px 1px 3px 1px rgba(0, 0, 0, 0.15);\n",
              "      filter: drop-shadow(0px 1px 2px rgba(0, 0, 0, 0.3));\n",
              "      fill: #FFFFFF;\n",
              "    }\n",
              "  </style>\n",
              "\n",
              "      <script>\n",
              "        const buttonEl =\n",
              "          document.querySelector('#df-b1578f10-1f3c-45ca-879e-b0ad6ad8e5f5 button.colab-df-convert');\n",
              "        buttonEl.style.display =\n",
              "          google.colab.kernel.accessAllowed ? 'block' : 'none';\n",
              "\n",
              "        async function convertToInteractive(key) {\n",
              "          const element = document.querySelector('#df-b1578f10-1f3c-45ca-879e-b0ad6ad8e5f5');\n",
              "          const dataTable =\n",
              "            await google.colab.kernel.invokeFunction('convertToInteractive',\n",
              "                                                     [key], {});\n",
              "          if (!dataTable) return;\n",
              "\n",
              "          const docLinkHtml = 'Like what you see? Visit the ' +\n",
              "            '<a target=\"_blank\" href=https://colab.research.google.com/notebooks/data_table.ipynb>data table notebook</a>'\n",
              "            + ' to learn more about interactive tables.';\n",
              "          element.innerHTML = '';\n",
              "          dataTable['output_type'] = 'display_data';\n",
              "          await google.colab.output.renderOutput(dataTable, element);\n",
              "          const docLink = document.createElement('div');\n",
              "          docLink.innerHTML = docLinkHtml;\n",
              "          element.appendChild(docLink);\n",
              "        }\n",
              "      </script>\n",
              "    </div>\n",
              "  </div>\n",
              "  "
            ]
          },
          "metadata": {},
          "execution_count": 573
        }
      ],
      "source": [
        "redact_dataset.head()"
      ]
    },
    {
      "cell_type": "code",
      "execution_count": null,
      "metadata": {
        "id": "kJYYroSiPWdf"
      },
      "outputs": [],
      "source": [
        "redact_dataset['energy(kWh/hh)'] = np.where(redact_dataset[\"energy(kWh/hh)\"] == 'Null', '0',redact_dataset[\"energy(kWh/hh)\"] )"
      ]
    },
    {
      "cell_type": "code",
      "execution_count": null,
      "metadata": {
        "id": "Dh4kBMb6PoTJ"
      },
      "outputs": [],
      "source": [
        "aj=pd.to_numeric(list(redact_dataset[\"energy(kWh/hh)\"]))"
      ]
    },
    {
      "cell_type": "markdown",
      "metadata": {
        "id": "TwOe-usOVUWg"
      },
      "source": [
        "If we find the sum of energy in `total_datset` and `redact_datset`, we should see the difference in the sum to be exactly equal to the energy consumption   ."
      ]
    },
    {
      "cell_type": "markdown",
      "source": [],
      "metadata": {
        "id": "dRaFkELuMUIh"
      }
    },
    {
      "cell_type": "code",
      "execution_count": null,
      "metadata": {
        "id": "9MhkhR43VUIq",
        "colab": {
          "base_uri": "https://localhost:8080/"
        },
        "outputId": "42f1e649-0579-42a5-d312-4949512ab8f6"
      },
      "outputs": [
        {
          "output_type": "execute_result",
          "data": {
            "text/plain": [
              "5519.61"
            ]
          },
          "metadata": {},
          "execution_count": 576
        }
      ],
      "source": [
        "sum_original_dataset = round(sum(ag), 2)\n",
        "sum_redact_dataset = round(sum(aj), 2)\n",
        "energy = round((sum_original_dataset - sum_redact_dataset), 2)\n",
        "energy"
      ]
    },
    {
      "cell_type": "markdown",
      "metadata": {
        "id": "Ow-YMPuWXKq2"
      },
      "source": [
        "It's quite evident that using the traditional methods, even though if we remove the private information like name and email, we could still infer the identity of the user. \n",
        "\n",
        "Using Differential Privacy, we can solve this! "
      ]
    },
    {
      "cell_type": "code",
      "execution_count": null,
      "metadata": {
        "id": "ZXqDewIjFvbn",
        "colab": {
          "base_uri": "https://localhost:8080/"
        },
        "outputId": "1d4a87ba-3831-4edd-d6a9-ed103b4b222b"
      },
      "outputs": [
        {
          "output_type": "stream",
          "name": "stdout",
          "text": [
            "334956.91\n"
          ]
        }
      ],
      "source": [
        "string_value = str(sum_original_dataset)\n",
        "print(string_value)"
      ]
    },
    {
      "cell_type": "code",
      "source": [
        "string_value = str(sum_redact_dataset)\n",
        "print(string_value)"
      ],
      "metadata": {
        "id": "8xQLbQU1Tn_m",
        "colab": {
          "base_uri": "https://localhost:8080/"
        },
        "outputId": "41ee1f9b-8af0-4896-cf94-26c3500613d0"
      },
      "execution_count": null,
      "outputs": [
        {
          "output_type": "stream",
          "name": "stdout",
          "text": [
            "329437.3\n"
          ]
        }
      ]
    },
    {
      "cell_type": "code",
      "execution_count": null,
      "metadata": {
        "id": "JSc_hccb8TmJ"
      },
      "outputs": [],
      "source": [
        "\n",
        "dp_sum_original_dataset = BoundedSum(epsilon= 1, lower_bound =0  , upper_bound = 44643, dtype ='float')"
      ]
    },
    {
      "cell_type": "code",
      "source": [
        "original_dataset['energy(kWh/hh)'] = original_dataset['energy(kWh/hh)'].astype(float)"
      ],
      "metadata": {
        "id": "cQbaq3aiK6v2"
      },
      "execution_count": null,
      "outputs": []
    },
    {
      "cell_type": "code",
      "execution_count": null,
      "metadata": {
        "id": "e16acxES8rnx"
      },
      "outputs": [],
      "source": [
        "dp_sum_og = dp_sum_original_dataset.quick_result(original_dataset['energy(kWh/hh)'].to_list()) # adding the data to the DP algorithm.to_list()"
      ]
    },
    {
      "cell_type": "code",
      "execution_count": null,
      "metadata": {
        "id": "KZVnY76h8yTl",
        "colab": {
          "base_uri": "https://localhost:8080/"
        },
        "outputId": "9861d351-63c9-4d17-daf3-1d23f3cb4ec9"
      },
      "outputs": [
        {
          "output_type": "stream",
          "name": "stdout",
          "text": [
            "308508.84\n"
          ]
        }
      ],
      "source": [
        "dp_sum_og = round(dp_sum_og, 2)\n",
        "print(dp_sum_og)"
      ]
    },
    {
      "cell_type": "markdown",
      "metadata": {
        "id": "Uj_TtJFEY2oI"
      },
      "source": [
        "#### Taking Sum of data on the Redacted Dataset"
      ]
    },
    {
      "cell_type": "code",
      "source": [
        "dp_redact_dataset = BoundedSum(epsilon= 1, lower_bound =  0, upper_bound = 44643, dtype ='float')"
      ],
      "metadata": {
        "id": "OM9_nqIYNLQN"
      },
      "execution_count": null,
      "outputs": []
    },
    {
      "cell_type": "code",
      "source": [
        "redact_dataset['energy(kWh/hh)'] = redact_dataset['energy(kWh/hh)'].astype(float)"
      ],
      "metadata": {
        "id": "HO0g_kX7Ntuw"
      },
      "execution_count": null,
      "outputs": []
    },
    {
      "cell_type": "code",
      "source": [
        "dp_redact_dataset.add_entries(redact_dataset['energy(kWh/hh)'].to_list())\n"
      ],
      "metadata": {
        "id": "uWKMRnouObGr"
      },
      "execution_count": null,
      "outputs": []
    },
    {
      "cell_type": "code",
      "execution_count": null,
      "metadata": {
        "id": "_qZsAP5n9hC-",
        "colab": {
          "base_uri": "https://localhost:8080/"
        },
        "outputId": "1914af7b-e6d4-4f17-c5ce-3dc1d2593b98"
      },
      "outputs": [
        {
          "output_type": "stream",
          "name": "stdout",
          "text": [
            "302864.71\n"
          ]
        }
      ],
      "source": [
        "dp_sum_redact = round(dp_redact_dataset.result(),2)\n",
        "print(dp_sum_redact)"
      ]
    },
    {
      "cell_type": "code",
      "execution_count": null,
      "metadata": {
        "id": "NHYm1tr-9v-0",
        "colab": {
          "base_uri": "https://localhost:8080/"
        },
        "outputId": "8eee71d4-eba1-455f-8eef-ac3040e793fd"
      },
      "outputs": [
        {
          "output_type": "stream",
          "name": "stdout",
          "text": [
            "Sum of sales_value in the orignal Dataset: 334956.91\n",
            "Sum of sales_value in the orignal Dataset using DP: 308508.84\n"
          ]
        }
      ],
      "source": [
        "print(\"Sum of sales_value in the orignal Dataset: {}\".format(sum_original_dataset))\n",
        "print(\"Sum of sales_value in the orignal Dataset using DP: {}\".format(dp_sum_og))\n",
        "assert dp_sum_og != sum_original_dataset\n"
      ]
    },
    {
      "cell_type": "code",
      "execution_count": null,
      "metadata": {
        "id": "y0ddDw6m9zO_",
        "colab": {
          "base_uri": "https://localhost:8080/"
        },
        "outputId": "b1e928a9-55a6-44f8-c957-a394f2b34d58"
      },
      "outputs": [
        {
          "output_type": "stream",
          "name": "stdout",
          "text": [
            "Sum of sales_value in the redacted Dataset: 329437.3\n",
            "Sum of sales_value in the redacted Dataset using DP: 302864.71\n"
          ]
        }
      ],
      "source": [
        "print(\"Sum of sales_value in the redacted Dataset: {}\".format(sum_redact_dataset))\n",
        "print(\"Sum of sales_value in the redacted Dataset using DP: {}\".format(dp_sum_redact))\n",
        "assert dp_sum_redact != sum_redact_dataset\n"
      ]
    },
    {
      "cell_type": "code",
      "execution_count": null,
      "metadata": {
        "id": "jD4WGOMWGlal",
        "colab": {
          "base_uri": "https://localhost:8080/"
        },
        "outputId": "02cba5cb-2121-48d2-fa52-80afd56f9833"
      },
      "outputs": [
        {
          "output_type": "stream",
          "name": "stdout",
          "text": [
            "Difference in sum using DP: 5644.13\n",
            "Actual Value: 5519.61\n"
          ]
        }
      ],
      "source": [
        "print(\"Difference in sum using DP: {}\".format(round(dp_sum_og - dp_sum_redact, 2)))\n",
        "print(\"Actual Value: {}\".format(energy))\n",
        "assert round(dp_sum_og - dp_sum_redact, 2) != energy\n",
        "\n"
      ]
    },
    {
      "cell_type": "code",
      "execution_count": null,
      "metadata": {
        "id": "o598TnDkaB4b",
        "colab": {
          "base_uri": "https://localhost:8080/",
          "height": 265
        },
        "outputId": "03702385-554f-4915-d616-7912069b3eb4"
      },
      "outputs": [
        {
          "output_type": "display_data",
          "data": {
            "text/plain": [
              "<Figure size 432x288 with 1 Axes>"
            ],
            "image/png": "[encoded data removed]"
          },
          "metadata": {
            "needs_background": "light"
          }
        }
      ],
      "source": [
        "take_diff = 30000\n",
        "top=[('Sum OG', sum_redact_dataset - take_diff),('DP SUM OG',dp_sum_og- take_diff),('Redact Sum',sum_redact_dataset- take_diff), ('Redact DP Sum',dp_sum_redact - take_diff)]\n",
        "\n",
        "labels, ys = zip(*top)\n",
        "xs = np.arange(len(labels)) \n",
        "width = 0.3\n",
        "#New_Colors = ['green','blue','purple','brown','teal']\n",
        "plt.bar(xs, ys, width, align='center')\n",
        "\n",
        "plt.xticks(xs, labels)\n",
        "plt.yticks(ys)\n",
        "plt.show()\n"
      ]
    },
    {
      "cell_type": "markdown",
      "metadata": {
        "id": "doQI5qjuCYrT"
      },
      "source": [
        "### Conclusion:\n",
        "We have demonstrated that using DP, as it's clearly visible, if we remove one consumption houshold from our dataset, our results do not vary a lot."
      ]
    }
  ],
  "metadata": {
    "colab": {
      "collapsed_sections": [
        "N8s8-wKjxtQA",
        "4jVg5GV6OhVX",
        "thx_3b-lTNun",
        "f_tO7QHYUWnq",
        "gVJZiHU7Ufob",
        "2DUdhL9NUzwx",
        "Uj_TtJFEY2oI",
        "doQI5qjuCYrT"
      ],
      "provenance": [],
      "include_colab_link": true
    },
    "kernelspec": {
      "display_name": "Python 3",
      "name": "python3"
    }
  },
  "nbformat": 4,
  "nbformat_minor": 0
}